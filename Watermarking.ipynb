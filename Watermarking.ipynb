{
  "nbformat": 4,
  "nbformat_minor": 0,
  "metadata": {
    "colab": {
      "name": "Watermarking.ipynb",
      "version": "0.3.2",
      "provenance": [],
      "collapsed_sections": []
    },
    "kernelspec": {
      "display_name": "Python 3",
      "language": "python",
      "name": "python3"
    }
  },
  "cells": [
    {
      "metadata": {
        "id": "uOTfqKeOZvMR",
        "colab_type": "code",
        "colab": {}
      },
      "cell_type": "code",
      "source": [
        "import os\n",
        "import numpy as np\n",
        "from PIL import Image\n",
        "from PIL import ImageFont, ImageDraw, ImageOps\n",
        "from random import randint\n",
        "\n",
        "if not os.path.exists('watermarked_images'):\n",
        "      os.makedirs('watermarked_images')\n",
        "    \n",
        "\n",
        "if not os.path.exists('clean_images'):\n",
        "      os.makedirs('clean_images')\n",
        "    \n",
        "    \n",
        "names = ['CLASSIFIED', 'TOP SECRET', 'DO NOT COPY', 'VERIFIED','CONFIDENTIAL', 'RIGHTS RESERVED', 'PYTHON', 'WATERMARKING', 'COMPANY', 'DRAFT']\n",
        "fonts1 = ['arial','times']\n",
        "def watermarking1(source,i,names = names, fonts = fonts1):\n",
        "    \n",
        "    im=(Image.open(source))#*255\n",
        "    cim=im.convert(\"L\")\n",
        "    cim = cim.resize((768,1024), Image.ANTIALIAS)\n",
        "    cim.save('clean_images/'+str(i)+'.png')\n",
        "    im=im.convert('RGB')\n",
        "    f = fnt = ImageFont.truetype( fonts1[randint(0,1)], randint(150, 350))\n",
        "    txt=Image.new('L', (randint(1500, 2000),randint(2000, 3000)))\n",
        "    d = ImageDraw.Draw(txt)\n",
        "    ran=randint(0, 9)\n",
        "    d.text( (randint(20,260), randint(50,320)), names[ran],  font=f, fill=randint(245,253))\n",
        "    w=txt.rotate(randint(0, 90),  expand=1)\n",
        "    im.paste( ImageOps.colorize(w, (randint(0, 255),randint(0, 255),randint(0, 255)), (randint(0, 255),randint(0, 255),randint(0, 255))), (30,40),  w)\n",
        "    im=im.convert('L')\n",
        "    im = im.resize((768,1024), Image.ANTIALIAS)\n",
        "    im.save('watermarked_images/'+str(i)+'w.png')\n",
        "\n",
        "def watermarking2(source,ind, names2 = names, fonts2 = fonts1):\n",
        "    img = Image.open(source)\n",
        "    cim=img.convert(\"L\")\n",
        "    cim = cim.resize((768,1024), Image.ANTIALIAS)\n",
        "    cim.save('clean_images/'+str(ind)+'.png')\n",
        "    img=img.convert('RGB')\n",
        "    txt=Image.new('L', (randint(1500, 2200),randint(1500, 22000)))\n",
        "    draw = ImageDraw.Draw(txt)\n",
        "    fontSize=randint(150,350)\n",
        "    font = ImageFont.truetype( fonts2[randint(0,1)], fontSize)\n",
        "    x, y = (30, 200)\n",
        "    # x, y = 10, 10\n",
        "    col=(randint(0, 255),randint(0, 255),randint(0, 255))\n",
        "    opacit=randint(245, 253)\n",
        "    text = names2[randint(0,9)]\n",
        "    w, h = font.getsize(text)\n",
        "    draw.text((x, y), text,  font=font,  fill=opacit)\n",
        "    cor = (x,y, x+w,y+h)\n",
        "    width = fontSize//10\n",
        "    for i in range(width):\n",
        "        draw.rectangle(cor, fill= None, outline=opacit)   \n",
        "        cor = (cor[0]-1,cor[1]+1, cor[2]+1,cor[3]+1) \n",
        "    w=txt.rotate(randint(0, 90),  expand=1)   \n",
        "    img.paste( ImageOps.colorize(w, (randint(0, 255),randint(0, 255),randint(0, 255)), (randint(0, 255),randint(0, 255),randint(0, 255))), (30,40),  w)\n",
        "    img=img.convert('L')\n",
        "    img = img.resize((768,1024), Image.ANTIALIAS)\n",
        "    img.save('watermarked_images/'+str(ind)+'w.png')"
      ],
      "execution_count": 0,
      "outputs": []
    },
    {
      "metadata": {
        "id": "XOEyLYp4bqEE",
        "colab_type": "code",
        "colab": {}
      },
      "cell_type": "code",
      "source": [
        ""
      ],
      "execution_count": 0,
      "outputs": []
    }
  ]
}